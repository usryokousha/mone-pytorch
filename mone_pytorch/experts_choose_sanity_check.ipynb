{
 "cells": [
  {
   "cell_type": "code",
   "execution_count": 1,
   "metadata": {},
   "outputs": [],
   "source": [
    "import torch\n",
    "import torch.nn as nn\n",
    "import torch.nn.functional as F\n",
    "\n",
    "from layers.routing import ExpertsChooseMaskedRouter"
   ]
  },
  {
   "cell_type": "code",
   "execution_count": 35,
   "metadata": {},
   "outputs": [
    {
     "name": "stdout",
     "output_type": "stream",
     "text": [
      "torch.Size([256, 196, 4, 196])\n",
      "torch.Size([256, 196, 4, 196])\n"
     ]
    }
   ],
   "source": [
    "# create a test tensor of shape (batch_size, seq_len, hidden_size)\n",
    "x = torch.randn(256, 196, 768).cuda()\n",
    "capacity = 196\n",
    "num_experts = 4\n",
    "\n",
    "router = ExpertsChooseMaskedRouter(dim=768, num_experts=4).cuda()\n",
    "dispatch_mask, combine_array = router(x, capacity)\n",
    "\n",
    "print(dispatch_mask.shape)\n",
    "print(combine_array.shape)\n",
    "\n"
   ]
  },
  {
   "cell_type": "code",
   "execution_count": 39,
   "metadata": {},
   "outputs": [
    {
     "name": "stdout",
     "output_type": "stream",
     "text": [
      "40.9356427192688\n"
     ]
    }
   ],
   "source": [
    "class MLP(nn.Module):\n",
    "    def __init__(self, in_features=768, hidden_dim=768, out_features=768):\n",
    "        super().__init__()\n",
    "        self.fc1 = nn.Linear(in_features, hidden_dim).cuda()\n",
    "        self.fc2 = nn.Linear(hidden_dim, out_features).cuda()\n",
    "\n",
    "    def forward(self, x):\n",
    "        x = self.fc1(x)\n",
    "        x = F.gelu(x)\n",
    "        x = self.fc2(x)\n",
    "        return x\n",
    "    \n",
    "def benchmark(fn, args, num_runs=100):\n",
    "    import time\n",
    "    \n",
    "    times = []\n",
    "    for _ in range(num_runs):\n",
    "        start = time.time()\n",
    "        fn(*args)\n",
    "        torch.cuda.synchronize()\n",
    "        times.append(time.time() - start)\n",
    "    return sum(times) / num_runs * 1000\n",
    "    \n",
    "mlp = MLP(in_features=768, hidden_dim=768, out_features=768).cuda()\n",
    "\n",
    "def expert_mlp(x):\n",
    "    x = router.dispatch(x, dispatch_mask)\n",
    "    x = mlp(x)\n",
    "    return router.combine(x, combine_array)\n",
    "\n",
    "print(benchmark(expert_mlp, (x,)))\n",
    "\n",
    "\n"
   ]
  }
 ],
 "metadata": {
  "kernelspec": {
   "display_name": "pytorch",
   "language": "python",
   "name": "python3"
  },
  "language_info": {
   "codemirror_mode": {
    "name": "ipython",
    "version": 3
   },
   "file_extension": ".py",
   "mimetype": "text/x-python",
   "name": "python",
   "nbconvert_exporter": "python",
   "pygments_lexer": "ipython3",
   "version": "3.9.20"
  }
 },
 "nbformat": 4,
 "nbformat_minor": 2
}
